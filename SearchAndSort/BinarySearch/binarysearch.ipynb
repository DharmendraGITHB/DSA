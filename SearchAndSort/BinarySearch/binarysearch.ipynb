{
  "metadata": {
    "language_info": {
      "codemirror_mode": {
        "name": "python",
        "version": 3
      },
      "file_extension": ".py",
      "mimetype": "text/x-python",
      "name": "python",
      "nbconvert_exporter": "python",
      "pygments_lexer": "ipython3",
      "version": "3.8"
    },
    "kernelspec": {
      "name": "python",
      "display_name": "Python (Pyodide)",
      "language": "python"
    }
  },
  "nbformat_minor": 4,
  "nbformat": 4,
  "cells": [
    {
      "cell_type": "markdown",
      "source": "## Binary Search Algorithm\n\nBinary search is an efficient than linear search Binary search is used in a sorted list/array it works by repeatedly dividing into half the portion of the list/array and continue till the item is find.\n",
      "metadata": {}
    },
    {
      "cell_type": "raw",
      "source": "### Algorithm\nBinarySearch(numList, key)\n\nStep 1: SET first = 0, last = n-1\n\nStep 2: Calculate mid = (first+last)//2\n\nStep 3: WHILE first <= last REPEAT Step 4\n\nStep 4: IF numList[mid] = key\n\n PRINT “Element found at position”,\n \n \" mid+1\n \n STOP\n \n ELSE\n \n IF numList[mid] > key, THEN last\n \n = mid-1\n \n ELSE first = mid + 1\n \nStep 5: PRINT “Search unsuccessful”\n",
      "metadata": {}
    },
    {
      "cell_type": "code",
      "source": "# iterative method\ndef binarysearch(arr, low, high, item):\n    while low <= high:\n        mid = low+ (high-low)//2\n        \n        if arr[mid] == item:\n            return mid\n        elif arr[mid] < item:\n            low = mid+1\n        else:\n            high = mid -1\n    return -1\n\narr = [1,2,3,4,5,6,7,8,9]\nitem = 5\nlow = 0\nhigh = len(arr)-1\nresult = binarysearch(arr,low ,high, item)\n\nprint(result)",
      "metadata": {
        "trusted": true
      },
      "execution_count": 2,
      "outputs": [
        {
          "name": "stdout",
          "text": "4\n",
          "output_type": "stream"
        }
      ]
    },
    {
      "cell_type": "code",
      "source": "# recursive method for binary search\n\ndef binarysearch(arr, low, high,item):\n    if low <= high:\n        mid = low + (high - low)//2\n        \n        if arr[mid] == item:\n            return mid\n        elif arr[mid] < item:\n            return binarysearch(arr, mid+1,high,item)\n        else:\n            return binarysearch(arr, low, mid-1, item)\n    \n            \n    else:\n        return -1\n\n\n\narr = [1,2,3,4,5,6,7,8,9]\nitem = 5\nlow = 0\nhigh = len(arr)-1\nresult = binarysearch(arr,low ,high, item)\n\nprint(result)\n",
      "metadata": {
        "trusted": true
      },
      "execution_count": 5,
      "outputs": [
        {
          "name": "stdout",
          "text": "4\n",
          "output_type": "stream"
        }
      ]
    },
    {
      "cell_type": "code",
      "source": "",
      "metadata": {},
      "execution_count": null,
      "outputs": []
    }
  ]
}